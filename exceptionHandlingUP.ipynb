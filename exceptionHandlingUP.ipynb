{
 "cells": [
  {
   "cell_type": "markdown",
   "metadata": {},
   "source": [
    "# SYNTAX ERROR\n",
    "    This exception is raised when the interpreter encounters a syntax error in the code, such as a misspelled keyword, a missing colon, or an unbalanced parenthesis.\n"
   ]
  },
  {
   "cell_type": "code",
   "execution_count": 25,
   "metadata": {},
   "outputs": [
    {
     "ename": "SyntaxError",
     "evalue": "expected ':' (1448601549.py, line 3)",
     "output_type": "error",
     "traceback": [
      "\u001b[1;36m  Cell \u001b[1;32mIn[25], line 3\u001b[1;36m\u001b[0m\n\u001b[1;33m    if fitHealth > 80\u001b[0m\n\u001b[1;37m                     ^\u001b[0m\n\u001b[1;31mSyntaxError\u001b[0m\u001b[1;31m:\u001b[0m expected ':'\n"
     ]
    }
   ],
   "source": [
    "# For e.g.\n",
    "fitHealth = 75\n",
    "if fitHealth > 80\n",
    "print(\"you can do lot more\")"
   ]
  },
  {
   "cell_type": "code",
   "execution_count": null,
   "metadata": {},
   "outputs": [
    {
     "ename": "SyntaxError",
     "evalue": "expected ':' (803022641.py, line 4)",
     "output_type": "error",
     "traceback": [
      "\u001b[1;36m  Cell \u001b[1;32mIn[2], line 4\u001b[1;36m\u001b[0m\n\u001b[1;33m    if fitHealth > 80\u001b[0m\n\u001b[1;37m                     ^\u001b[0m\n\u001b[1;31mSyntaxError\u001b[0m\u001b[1;31m:\u001b[0m expected ':'\n"
     ]
    }
   ],
   "source": [
    "# solution\n",
    "try:\n",
    "    fitHealth = 75\n",
    "    if fitHealth > 80\n",
    "        print(\"you can do lot more\")\n",
    "except:\n",
    "    print(\"syntaxError Detected...\")"
   ]
  },
  {
   "cell_type": "markdown",
   "metadata": {},
   "source": [
    "# TYPE ERROR \n",
    "                This exception is raised when an operation or function is applied to an object of the wrong type, such as adding a string to an integer.  "
   ]
  },
  {
   "cell_type": "code",
   "execution_count": null,
   "metadata": {},
   "outputs": [
    {
     "ename": "TypeError",
     "evalue": "unsupported operand type(s) for +: 'int' and 'str'",
     "output_type": "error",
     "traceback": [
      "\u001b[1;31m---------------------------------------------------------------------------\u001b[0m",
      "\u001b[1;31mTypeError\u001b[0m                                 Traceback (most recent call last)",
      "\u001b[1;32mc:\\Users\\lenovo\\Desktop\\STIPupflairs\\homeworks\\exceptionHandlingUP.ipynb Cell 5\u001b[0m line \u001b[0;36m5\n\u001b[0;32m      <a href='vscode-notebook-cell:/c%3A/Users/lenovo/Desktop/STIPupflairs/homeworks/exceptionHandlingUP.ipynb#W1sZmlsZQ%3D%3D?line=1'>2</a>\u001b[0m \u001b[39mdef\u001b[39;00m \u001b[39madd_numbers\u001b[39m(a, b):\n\u001b[0;32m      <a href='vscode-notebook-cell:/c%3A/Users/lenovo/Desktop/STIPupflairs/homeworks/exceptionHandlingUP.ipynb#W1sZmlsZQ%3D%3D?line=2'>3</a>\u001b[0m     \u001b[39mreturn\u001b[39;00m a \u001b[39m+\u001b[39m b\n\u001b[1;32m----> <a href='vscode-notebook-cell:/c%3A/Users/lenovo/Desktop/STIPupflairs/homeworks/exceptionHandlingUP.ipynb#W1sZmlsZQ%3D%3D?line=4'>5</a>\u001b[0m result \u001b[39m=\u001b[39m add_numbers(\u001b[39m5\u001b[39;49m, \u001b[39m\"\u001b[39;49m\u001b[39m10\u001b[39;49m\u001b[39m\"\u001b[39;49m)\n\u001b[0;32m      <a href='vscode-notebook-cell:/c%3A/Users/lenovo/Desktop/STIPupflairs/homeworks/exceptionHandlingUP.ipynb#W1sZmlsZQ%3D%3D?line=5'>6</a>\u001b[0m \u001b[39mprint\u001b[39m(result)\n",
      "\u001b[1;32mc:\\Users\\lenovo\\Desktop\\STIPupflairs\\homeworks\\exceptionHandlingUP.ipynb Cell 5\u001b[0m line \u001b[0;36m3\n\u001b[0;32m      <a href='vscode-notebook-cell:/c%3A/Users/lenovo/Desktop/STIPupflairs/homeworks/exceptionHandlingUP.ipynb#W1sZmlsZQ%3D%3D?line=1'>2</a>\u001b[0m \u001b[39mdef\u001b[39;00m \u001b[39madd_numbers\u001b[39m(a, b):\n\u001b[1;32m----> <a href='vscode-notebook-cell:/c%3A/Users/lenovo/Desktop/STIPupflairs/homeworks/exceptionHandlingUP.ipynb#W1sZmlsZQ%3D%3D?line=2'>3</a>\u001b[0m     \u001b[39mreturn\u001b[39;00m a \u001b[39m+\u001b[39;49m b\n",
      "\u001b[1;31mTypeError\u001b[0m: unsupported operand type(s) for +: 'int' and 'str'"
     ]
    }
   ],
   "source": [
    "# for e.g. \n",
    "def add_numbers(a, b):\n",
    "    return a + b\n",
    "\n",
    "result = add_numbers(5, \"10\")\n",
    "print(result)"
   ]
  },
  {
   "cell_type": "code",
   "execution_count": null,
   "metadata": {},
   "outputs": [
    {
     "name": "stdout",
     "output_type": "stream",
     "text": [
      "TypeError Detected...\n"
     ]
    }
   ],
   "source": [
    "# solution\n",
    "\n",
    "try:\n",
    "    def add_numbers(a, b):\n",
    "        return a + b\n",
    "    result = add_numbers(5, \"10\")\n",
    "    print(result)\n",
    "except: \n",
    "    print(\"TypeError Detected...\")"
   ]
  },
  {
   "cell_type": "markdown",
   "metadata": {},
   "source": [
    "# NAME ERROR \n",
    "                This exception is raised when a variable or function name is not found in the current scope."
   ]
  },
  {
   "cell_type": "code",
   "execution_count": null,
   "metadata": {},
   "outputs": [
    {
     "ename": "NameError",
     "evalue": "name 'winnyX' is not defined",
     "output_type": "error",
     "traceback": [
      "\u001b[1;31m---------------------------------------------------------------------------\u001b[0m",
      "\u001b[1;31mNameError\u001b[0m                                 Traceback (most recent call last)",
      "\u001b[1;32mc:\\Users\\lenovo\\Desktop\\STIPupflairs\\homeworks\\exceptionHandlingUP.ipynb Cell 8\u001b[0m line \u001b[0;36m2\n\u001b[0;32m      <a href='vscode-notebook-cell:/c%3A/Users/lenovo/Desktop/STIPupflairs/homeworks/exceptionHandlingUP.ipynb#W2sZmlsZQ%3D%3D?line=0'>1</a>\u001b[0m \u001b[39m# for e.g.\u001b[39;00m\n\u001b[1;32m----> <a href='vscode-notebook-cell:/c%3A/Users/lenovo/Desktop/STIPupflairs/homeworks/exceptionHandlingUP.ipynb#W2sZmlsZQ%3D%3D?line=1'>2</a>\u001b[0m \u001b[39mprint\u001b[39m(winnyX)\n",
      "\u001b[1;31mNameError\u001b[0m: name 'winnyX' is not defined"
     ]
    }
   ],
   "source": [
    "# for e.g.\n",
    "print(winnyX)"
   ]
  },
  {
   "cell_type": "code",
   "execution_count": null,
   "metadata": {},
   "outputs": [
    {
     "name": "stdout",
     "output_type": "stream",
     "text": [
      "NameError Detected -> name 'winnyX' is not defined\n"
     ]
    }
   ],
   "source": [
    "# solution\n",
    "try:\n",
    "    print(winnyX)\n",
    "except NameError as e:\n",
    "    print(f\"NameError Detected -> {e}\")\n",
    "    "
   ]
  },
  {
   "cell_type": "markdown",
   "metadata": {},
   "source": [
    "# INDEX ERROR \n",
    "                This exception is raised when an index is out of range for a list, tuple, or other sequence types."
   ]
  },
  {
   "cell_type": "code",
   "execution_count": null,
   "metadata": {},
   "outputs": [
    {
     "ename": "IndexError",
     "evalue": "list index out of range",
     "output_type": "error",
     "traceback": [
      "\u001b[1;31m---------------------------------------------------------------------------\u001b[0m",
      "\u001b[1;31mIndexError\u001b[0m                                Traceback (most recent call last)",
      "\u001b[1;32mc:\\Users\\lenovo\\Desktop\\STIPupflairs\\homeworks\\exceptionHandlingUP.ipynb Cell 11\u001b[0m line \u001b[0;36m3\n\u001b[0;32m      <a href='vscode-notebook-cell:/c%3A/Users/lenovo/Desktop/STIPupflairs/homeworks/exceptionHandlingUP.ipynb#W3sZmlsZQ%3D%3D?line=0'>1</a>\u001b[0m \u001b[39m# for e.g.\u001b[39;00m\n\u001b[0;32m      <a href='vscode-notebook-cell:/c%3A/Users/lenovo/Desktop/STIPupflairs/homeworks/exceptionHandlingUP.ipynb#W3sZmlsZQ%3D%3D?line=1'>2</a>\u001b[0m my_list \u001b[39m=\u001b[39m [\u001b[39m1\u001b[39m, \u001b[39m2\u001b[39m, \u001b[39m3\u001b[39m]\n\u001b[1;32m----> <a href='vscode-notebook-cell:/c%3A/Users/lenovo/Desktop/STIPupflairs/homeworks/exceptionHandlingUP.ipynb#W3sZmlsZQ%3D%3D?line=2'>3</a>\u001b[0m \u001b[39mprint\u001b[39m(my_list[\u001b[39m5\u001b[39;49m])\n",
      "\u001b[1;31mIndexError\u001b[0m: list index out of range"
     ]
    }
   ],
   "source": [
    "# for e.g.\n",
    "my_list = [1, 2, 3]\n",
    "print(my_list[5])"
   ]
  },
  {
   "cell_type": "code",
   "execution_count": null,
   "metadata": {},
   "outputs": [
    {
     "name": "stdout",
     "output_type": "stream",
     "text": [
      "NameError Detected... ->  list index out of range\n"
     ]
    }
   ],
   "source": [
    "# solution\n",
    "try:\n",
    "    my_list = [1,2,3]\n",
    "    print(my_list[5])\n",
    "except Exception as e:\n",
    "    print(f\"NameError Detected... ->  {e}\")"
   ]
  },
  {
   "cell_type": "markdown",
   "metadata": {},
   "source": [
    "# KEY ERROR \n",
    "                This exception is raised when a key is not found in a dictionary."
   ]
  },
  {
   "cell_type": "code",
   "execution_count": null,
   "metadata": {},
   "outputs": [
    {
     "ename": "KeyError",
     "evalue": "'address'",
     "output_type": "error",
     "traceback": [
      "\u001b[1;31m---------------------------------------------------------------------------\u001b[0m",
      "\u001b[1;31mKeyError\u001b[0m                                  Traceback (most recent call last)",
      "\u001b[1;32mc:\\Users\\lenovo\\Desktop\\STIPupflairs\\homeworks\\exceptionHandlingUP.ipynb Cell 14\u001b[0m line \u001b[0;36m3\n\u001b[0;32m      <a href='vscode-notebook-cell:/c%3A/Users/lenovo/Desktop/STIPupflairs/homeworks/exceptionHandlingUP.ipynb#W5sZmlsZQ%3D%3D?line=0'>1</a>\u001b[0m \u001b[39m# for e.g.\u001b[39;00m\n\u001b[0;32m      <a href='vscode-notebook-cell:/c%3A/Users/lenovo/Desktop/STIPupflairs/homeworks/exceptionHandlingUP.ipynb#W5sZmlsZQ%3D%3D?line=1'>2</a>\u001b[0m myDict \u001b[39m=\u001b[39m {\u001b[39m'\u001b[39m\u001b[39mname\u001b[39m\u001b[39m'\u001b[39m: \u001b[39m'\u001b[39m\u001b[39mInder\u001b[39m\u001b[39m'\u001b[39m, \u001b[39m'\u001b[39m\u001b[39mage\u001b[39m\u001b[39m'\u001b[39m: \u001b[39m20\u001b[39m}\n\u001b[1;32m----> <a href='vscode-notebook-cell:/c%3A/Users/lenovo/Desktop/STIPupflairs/homeworks/exceptionHandlingUP.ipynb#W5sZmlsZQ%3D%3D?line=2'>3</a>\u001b[0m \u001b[39mprint\u001b[39m(myDict[\u001b[39m'\u001b[39;49m\u001b[39maddress\u001b[39;49m\u001b[39m'\u001b[39;49m])\n",
      "\u001b[1;31mKeyError\u001b[0m: 'address'"
     ]
    }
   ],
   "source": [
    "# for e.g.\n",
    "myDict = {'name': 'Inder', 'age': 20}\n",
    "print(myDict['address'])"
   ]
  },
  {
   "cell_type": "code",
   "execution_count": null,
   "metadata": {},
   "outputs": [
    {
     "name": "stdout",
     "output_type": "stream",
     "text": [
      "KeyError Detected... ->  'address'\n"
     ]
    }
   ],
   "source": [
    "#solution\n",
    "try:\n",
    "    myDict = {'name': 'Inder', 'age': 20}\n",
    "    print(myDict['address'])\n",
    "except Exception as e:\n",
    "    print(f\"KeyError Detected... ->  {e}\")"
   ]
  },
  {
   "cell_type": "markdown",
   "metadata": {},
   "source": [
    "# ValueError \n",
    "                This exception is raised when a function or method is called with an invalid argument or input, such as trying to convert a string to an integer when the string does not represent a valid integer."
   ]
  },
  {
   "cell_type": "code",
   "execution_count": null,
   "metadata": {},
   "outputs": [
    {
     "ename": "ValueError",
     "evalue": "invalid literal for int() with base 10: 'hello'",
     "output_type": "error",
     "traceback": [
      "\u001b[1;31m---------------------------------------------------------------------------\u001b[0m",
      "\u001b[1;31mValueError\u001b[0m                                Traceback (most recent call last)",
      "\u001b[1;32mc:\\Users\\lenovo\\Desktop\\STIPupflairs\\homeworks\\exceptionHandlingUP.ipynb Cell 17\u001b[0m line \u001b[0;36m2\n\u001b[0;32m      <a href='vscode-notebook-cell:/c%3A/Users/lenovo/Desktop/STIPupflairs/homeworks/exceptionHandlingUP.ipynb#W6sZmlsZQ%3D%3D?line=0'>1</a>\u001b[0m \u001b[39m# for e.g.\u001b[39;00m\n\u001b[1;32m----> <a href='vscode-notebook-cell:/c%3A/Users/lenovo/Desktop/STIPupflairs/homeworks/exceptionHandlingUP.ipynb#W6sZmlsZQ%3D%3D?line=1'>2</a>\u001b[0m val \u001b[39m=\u001b[39m \u001b[39mint\u001b[39;49m(\u001b[39m\"\u001b[39;49m\u001b[39mhello\u001b[39;49m\u001b[39m\"\u001b[39;49m)\n",
      "\u001b[1;31mValueError\u001b[0m: invalid literal for int() with base 10: 'hello'"
     ]
    }
   ],
   "source": [
    "# for e.g.\n",
    "val = int(\"hello\")"
   ]
  },
  {
   "cell_type": "code",
   "execution_count": null,
   "metadata": {},
   "outputs": [
    {
     "name": "stdout",
     "output_type": "stream",
     "text": [
      "ValueError Detected... ->  invalid literal for int() with base 10: 'hi'\n"
     ]
    }
   ],
   "source": [
    "#solution\n",
    "try:\n",
    "    val = int(\"hi\")\n",
    "except Exception as e:\n",
    "    print(f\"ValueError Detected... ->  {e}\")"
   ]
  },
  {
   "cell_type": "markdown",
   "metadata": {},
   "source": [
    "# AttributeError \n",
    "                This exception is raised when an attribute or method is not found on an object, such as trying to access a non-existent attribute of a class instance."
   ]
  },
  {
   "cell_type": "code",
   "execution_count": null,
   "metadata": {},
   "outputs": [
    {
     "ename": "AttributeError",
     "evalue": "'list' object has no attribute 'push'",
     "output_type": "error",
     "traceback": [
      "\u001b[1;31m---------------------------------------------------------------------------\u001b[0m",
      "\u001b[1;31mAttributeError\u001b[0m                            Traceback (most recent call last)",
      "\u001b[1;32mc:\\Users\\lenovo\\Desktop\\STIPupflairs\\homeworks\\exceptionHandlingUP.ipynb Cell 7\u001b[0m line \u001b[0;36m7\n\u001b[0;32m      <a href='vscode-notebook-cell:/c%3A/Users/lenovo/Desktop/STIPupflairs/homeworks/exceptionHandlingUP.ipynb#X10sZmlsZQ%3D%3D?line=4'>5</a>\u001b[0m my_list \u001b[39m=\u001b[39m [\u001b[39m1\u001b[39m, \u001b[39m2\u001b[39m, \u001b[39m3\u001b[39m]\n\u001b[0;32m      <a href='vscode-notebook-cell:/c%3A/Users/lenovo/Desktop/STIPupflairs/homeworks/exceptionHandlingUP.ipynb#X10sZmlsZQ%3D%3D?line=5'>6</a>\u001b[0m my_list\u001b[39m.\u001b[39mappend(\u001b[39m4\u001b[39m)\n\u001b[1;32m----> <a href='vscode-notebook-cell:/c%3A/Users/lenovo/Desktop/STIPupflairs/homeworks/exceptionHandlingUP.ipynb#X10sZmlsZQ%3D%3D?line=6'>7</a>\u001b[0m my_list\u001b[39m.\u001b[39;49mpush(\u001b[39m5\u001b[39m)  \u001b[39m#list not have any push method\u001b[39;00m\n",
      "\u001b[1;31mAttributeError\u001b[0m: 'list' object has no attribute 'push'"
     ]
    }
   ],
   "source": [
    "# for e.g.\n",
    "my_list = [1, 2, 3]\n",
    "my_list.append(4)\n",
    "my_list.push(5)  #list not have any push method"
   ]
  },
  {
   "cell_type": "code",
   "execution_count": null,
   "metadata": {},
   "outputs": [],
   "source": [
    "# solution\n",
    "try:\n",
    "    my_list = [1, 2, 3]\n",
    "    my_list.append(4)\n",
    "    my_list.push(5) \n",
    "except Exception as e:\n",
    "    print(f\"AttributeError Detected... ->  {e}\") "
   ]
  },
  {
   "cell_type": "markdown",
   "metadata": {},
   "source": [
    "# ZeroDivisionError\n",
    "                This exception is raised when an attempt is made to divide a number by zero."
   ]
  },
  {
   "cell_type": "code",
   "execution_count": null,
   "metadata": {},
   "outputs": [
    {
     "ename": "ZeroDivisionError",
     "evalue": "division by zero",
     "output_type": "error",
     "traceback": [
      "\u001b[1;31m---------------------------------------------------------------------------\u001b[0m",
      "\u001b[1;31mZeroDivisionError\u001b[0m                         Traceback (most recent call last)",
      "\u001b[1;32mc:\\Users\\lenovo\\Desktop\\STIPupflairs\\homeworks\\exceptionHandlingUP.ipynb Cell 8\u001b[0m line \u001b[0;36m5\n\u001b[0;32m      <a href='vscode-notebook-cell:/c%3A/Users/lenovo/Desktop/STIPupflairs/homeworks/exceptionHandlingUP.ipynb#X11sZmlsZQ%3D%3D?line=0'>1</a>\u001b[0m \u001b[39m# ZeroDivisionError\u001b[39;00m\n\u001b[0;32m      <a href='vscode-notebook-cell:/c%3A/Users/lenovo/Desktop/STIPupflairs/homeworks/exceptionHandlingUP.ipynb#X11sZmlsZQ%3D%3D?line=1'>2</a>\u001b[0m \u001b[39m#                 This exception is raised when an attempt is made to divide a number by zero.\u001b[39;00m\n\u001b[0;32m      <a href='vscode-notebook-cell:/c%3A/Users/lenovo/Desktop/STIPupflairs/homeworks/exceptionHandlingUP.ipynb#X11sZmlsZQ%3D%3D?line=2'>3</a>\u001b[0m \n\u001b[0;32m      <a href='vscode-notebook-cell:/c%3A/Users/lenovo/Desktop/STIPupflairs/homeworks/exceptionHandlingUP.ipynb#X11sZmlsZQ%3D%3D?line=3'>4</a>\u001b[0m \u001b[39m# for e.g.\u001b[39;00m\n\u001b[1;32m----> <a href='vscode-notebook-cell:/c%3A/Users/lenovo/Desktop/STIPupflairs/homeworks/exceptionHandlingUP.ipynb#X11sZmlsZQ%3D%3D?line=4'>5</a>\u001b[0m division \u001b[39m=\u001b[39m \u001b[39m13\u001b[39;49m\u001b[39m/\u001b[39;49m\u001b[39m0\u001b[39;49m\n",
      "\u001b[1;31mZeroDivisionError\u001b[0m: division by zero"
     ]
    }
   ],
   "source": [
    "# for e.g.\n",
    "division = 13/0"
   ]
  },
  {
   "cell_type": "code",
   "execution_count": null,
   "metadata": {},
   "outputs": [
    {
     "name": "stdout",
     "output_type": "stream",
     "text": [
      "ZeroDivisionError Detected... ->  division by zero\n"
     ]
    }
   ],
   "source": [
    "# solution\n",
    "try:\n",
    "    division = 13/0\n",
    "except Exception as e:\n",
    "    print(f\"ZeroDivisionError Detected... ->  {e}\") "
   ]
  },
  {
   "cell_type": "markdown",
   "metadata": {},
   "source": [
    "# IndentationError \n",
    "                In Python, indentation is used to define the structure of the code, particularly for blocks like loops, conditionals, and functions. An indentation error occurs when the spaces or tabs used to indent the code are not consistent or incorrect according to the Python syntax rules."
   ]
  },
  {
   "cell_type": "code",
   "execution_count": null,
   "metadata": {},
   "outputs": [
    {
     "ename": "IndentationError",
     "evalue": "expected an indented block after 'if' statement on line 7 (1971621321.py, line 8)",
     "output_type": "error",
     "traceback": [
      "\u001b[1;36m  Cell \u001b[1;32mIn[20], line 8\u001b[1;36m\u001b[0m\n\u001b[1;33m    print(\"Nice to meet you!\")\u001b[0m\n\u001b[1;37m    ^\u001b[0m\n\u001b[1;31mIndentationError\u001b[0m\u001b[1;31m:\u001b[0m expected an indented block after 'if' statement on line 7\n"
     ]
    }
   ],
   "source": [
    "\n",
    "# for e.g.\n",
    "def welcome(name):\n",
    "    print(\"Welcome, \" + name)\n",
    "    if name:\n",
    "    print(\"Nice to meet you!\")"
   ]
  },
  {
   "cell_type": "code",
   "execution_count": null,
   "metadata": {},
   "outputs": [
    {
     "ename": "IndentationError",
     "evalue": "expected an indented block after 'if' statement on line 5 (48444819.py, line 6)",
     "output_type": "error",
     "traceback": [
      "\u001b[1;36m  Cell \u001b[1;32mIn[18], line 6\u001b[1;36m\u001b[0m\n\u001b[1;33m    print(\"Nice to meet you!\")\u001b[0m\n\u001b[1;37m    ^\u001b[0m\n\u001b[1;31mIndentationError\u001b[0m\u001b[1;31m:\u001b[0m expected an indented block after 'if' statement on line 5\n"
     ]
    }
   ],
   "source": [
    "# solution \n",
    "try:\n",
    "    def welcome(name):\n",
    "        print(\"Welcome, \" + name)\n",
    "        if name:\n",
    "        print(\"Nice to meet you!\")\n",
    "except Exception as e:\n",
    "    print(f\"IndentationError Detected... ->  {e}\") "
   ]
  },
  {
   "cell_type": "markdown",
   "metadata": {},
   "source": [
    "# ModuleNotFoundError \n",
    "                    A ModuleNotFoundError occurs in Python when you try to import a module that does not exist or is not available in the environment. This error typically arises when you have a typo in the module name or when the module is not installed."
   ]
  },
  {
   "cell_type": "code",
   "execution_count": null,
   "metadata": {},
   "outputs": [
    {
     "ename": "ModuleNotFoundError",
     "evalue": "No module named 'non_existent_module'",
     "output_type": "error",
     "traceback": [
      "\u001b[1;31m---------------------------------------------------------------------------\u001b[0m",
      "\u001b[1;31mModuleNotFoundError\u001b[0m                       Traceback (most recent call last)",
      "\u001b[1;32mc:\\Users\\lenovo\\Desktop\\STIPupflairs\\homeworks\\exceptionHandlingUP.ipynb Cell 10\u001b[0m line \u001b[0;36m5\n\u001b[0;32m      <a href='vscode-notebook-cell:/c%3A/Users/lenovo/Desktop/STIPupflairs/homeworks/exceptionHandlingUP.ipynb#X13sZmlsZQ%3D%3D?line=0'>1</a>\u001b[0m \u001b[39m# ModuleNotFoundError \u001b[39;00m\n\u001b[0;32m      <a href='vscode-notebook-cell:/c%3A/Users/lenovo/Desktop/STIPupflairs/homeworks/exceptionHandlingUP.ipynb#X13sZmlsZQ%3D%3D?line=1'>2</a>\u001b[0m \u001b[39m#                     A ModuleNotFoundError occurs in Python when you try to import a module that does not exist or is not available in the environment. This error typically arises when you have a typo in the module name or when the module is not installed.\u001b[39;00m\n\u001b[0;32m      <a href='vscode-notebook-cell:/c%3A/Users/lenovo/Desktop/STIPupflairs/homeworks/exceptionHandlingUP.ipynb#X13sZmlsZQ%3D%3D?line=2'>3</a>\u001b[0m \n\u001b[0;32m      <a href='vscode-notebook-cell:/c%3A/Users/lenovo/Desktop/STIPupflairs/homeworks/exceptionHandlingUP.ipynb#X13sZmlsZQ%3D%3D?line=3'>4</a>\u001b[0m \u001b[39m# for e.g.\u001b[39;00m\n\u001b[1;32m----> <a href='vscode-notebook-cell:/c%3A/Users/lenovo/Desktop/STIPupflairs/homeworks/exceptionHandlingUP.ipynb#X13sZmlsZQ%3D%3D?line=4'>5</a>\u001b[0m \u001b[39mimport\u001b[39;00m \u001b[39mnon_existent_module\u001b[39;00m\n",
      "\u001b[1;31mModuleNotFoundError\u001b[0m: No module named 'non_existent_module'"
     ]
    }
   ],
   "source": [
    "# for e.g.\n",
    "import non_existent_module"
   ]
  },
  {
   "cell_type": "code",
   "execution_count": null,
   "metadata": {},
   "outputs": [
    {
     "name": "stdout",
     "output_type": "stream",
     "text": [
      "ModuleNotFoundError Detected... ->  No module named 'non_existent_modul'\n"
     ]
    }
   ],
   "source": [
    "# solution \n",
    "try:\n",
    "    import non_existent_modul\n",
    "except Exception as e:\n",
    "    print(f\"ModuleNotFoundError Detected... ->  {e}\") "
   ]
  },
  {
   "cell_type": "markdown",
   "metadata": {},
   "source": [
    "# FileExistsError \n",
    "                A FileExistsError occurs in Python when an attempt is made to create a file or directory that already exists. This error is raised by functions that attempt to create files or directories, such as os.makedirs or open, when the file or directory already exists and the exist_ok parameter is not set to True or a similar option is not provided."
   ]
  },
  {
   "cell_type": "code",
   "execution_count": null,
   "metadata": {},
   "outputs": [
    {
     "ename": "FileExistsError",
     "evalue": "[WinError 183] Cannot create a file when that file already exists: 'existing_directory'",
     "output_type": "error",
     "traceback": [
      "\u001b[1;31m---------------------------------------------------------------------------\u001b[0m",
      "\u001b[1;31mFileExistsError\u001b[0m                           Traceback (most recent call last)",
      "\u001b[1;32mc:\\Users\\lenovo\\Desktop\\STIPupflairs\\homeworks\\exceptionHandlingUP.ipynb Cell 32\u001b[0m line \u001b[0;36m5\n\u001b[0;32m      <a href='vscode-notebook-cell:/c%3A/Users/lenovo/Desktop/STIPupflairs/homeworks/exceptionHandlingUP.ipynb#X14sZmlsZQ%3D%3D?line=1'>2</a>\u001b[0m \u001b[39mimport\u001b[39;00m \u001b[39mos\u001b[39;00m\n\u001b[0;32m      <a href='vscode-notebook-cell:/c%3A/Users/lenovo/Desktop/STIPupflairs/homeworks/exceptionHandlingUP.ipynb#X14sZmlsZQ%3D%3D?line=3'>4</a>\u001b[0m \u001b[39m# Attempt to create a directory that already exists\u001b[39;00m\n\u001b[1;32m----> <a href='vscode-notebook-cell:/c%3A/Users/lenovo/Desktop/STIPupflairs/homeworks/exceptionHandlingUP.ipynb#X14sZmlsZQ%3D%3D?line=4'>5</a>\u001b[0m os\u001b[39m.\u001b[39;49mmkdir(\u001b[39m'\u001b[39;49m\u001b[39mexisting_directory\u001b[39;49m\u001b[39m'\u001b[39;49m)\n\u001b[0;32m      <a href='vscode-notebook-cell:/c%3A/Users/lenovo/Desktop/STIPupflairs/homeworks/exceptionHandlingUP.ipynb#X14sZmlsZQ%3D%3D?line=5'>6</a>\u001b[0m os\u001b[39m.\u001b[39mmkdir(\u001b[39m'\u001b[39m\u001b[39mexisting_directory\u001b[39m\u001b[39m'\u001b[39m)\n",
      "\u001b[1;31mFileExistsError\u001b[0m: [WinError 183] Cannot create a file when that file already exists: 'existing_directory'"
     ]
    }
   ],
   "source": [
    "# for e.g.\n",
    "import os\n",
    "\n",
    "# Attempt to create a directory that already exists\n",
    "os.mkdir('existing_directory')\n"
   ]
  },
  {
   "cell_type": "code",
   "execution_count": null,
   "metadata": {},
   "outputs": [
    {
     "name": "stdout",
     "output_type": "stream",
     "text": [
      "FileExistsError Detected... ->  [WinError 183] Cannot create a file when that file already exists: 'existing_directory'\n"
     ]
    }
   ],
   "source": [
    "# solution\n",
    "try:\n",
    "    os.mkdir('existing_directory')\n",
    "except Exception as e:\n",
    "    print(f\"FileExistsError Detected... ->  {e}\") "
   ]
  },
  {
   "cell_type": "markdown",
   "metadata": {},
   "source": [
    "# FileNotFoundError \n",
    "                A FileNotFoundError occurs in Python when an attempt is made to open or access a file that does not exist. This error is typically raised by functions like open(), when the specified file path cannot be found."
   ]
  },
  {
   "cell_type": "code",
   "execution_count": null,
   "metadata": {},
   "outputs": [
    {
     "ename": "FileNotFoundError",
     "evalue": "[Errno 2] No such file or directory: 'non_existent_file.txt'",
     "output_type": "error",
     "traceback": [
      "\u001b[1;31m---------------------------------------------------------------------------\u001b[0m",
      "\u001b[1;31mFileNotFoundError\u001b[0m                         Traceback (most recent call last)",
      "\u001b[1;32mc:\\Users\\lenovo\\Desktop\\STIPupflairs\\homeworks\\exceptionHandlingUP.ipynb Cell 35\u001b[0m line \u001b[0;36m2\n\u001b[0;32m      <a href='vscode-notebook-cell:/c%3A/Users/lenovo/Desktop/STIPupflairs/homeworks/exceptionHandlingUP.ipynb#X15sZmlsZQ%3D%3D?line=0'>1</a>\u001b[0m \u001b[39m# for e.g.\u001b[39;00m\n\u001b[1;32m----> <a href='vscode-notebook-cell:/c%3A/Users/lenovo/Desktop/STIPupflairs/homeworks/exceptionHandlingUP.ipynb#X15sZmlsZQ%3D%3D?line=1'>2</a>\u001b[0m \u001b[39mwith\u001b[39;00m \u001b[39mopen\u001b[39;49m(\u001b[39m'\u001b[39;49m\u001b[39mnon_existent_file.txt\u001b[39;49m\u001b[39m'\u001b[39;49m, \u001b[39m'\u001b[39;49m\u001b[39mr\u001b[39;49m\u001b[39m'\u001b[39;49m) \u001b[39mas\u001b[39;00m file:\n\u001b[0;32m      <a href='vscode-notebook-cell:/c%3A/Users/lenovo/Desktop/STIPupflairs/homeworks/exceptionHandlingUP.ipynb#X15sZmlsZQ%3D%3D?line=2'>3</a>\u001b[0m     content \u001b[39m=\u001b[39m file\u001b[39m.\u001b[39mread()\n",
      "File \u001b[1;32m~\\AppData\\Roaming\\Python\\Python312\\site-packages\\IPython\\core\\interactiveshell.py:324\u001b[0m, in \u001b[0;36m_modified_open\u001b[1;34m(file, *args, **kwargs)\u001b[0m\n\u001b[0;32m    317\u001b[0m \u001b[39mif\u001b[39;00m file \u001b[39min\u001b[39;00m {\u001b[39m0\u001b[39m, \u001b[39m1\u001b[39m, \u001b[39m2\u001b[39m}:\n\u001b[0;32m    318\u001b[0m     \u001b[39mraise\u001b[39;00m \u001b[39mValueError\u001b[39;00m(\n\u001b[0;32m    319\u001b[0m         \u001b[39mf\u001b[39m\u001b[39m\"\u001b[39m\u001b[39mIPython won\u001b[39m\u001b[39m'\u001b[39m\u001b[39mt let you open fd=\u001b[39m\u001b[39m{\u001b[39;00mfile\u001b[39m}\u001b[39;00m\u001b[39m by default \u001b[39m\u001b[39m\"\u001b[39m\n\u001b[0;32m    320\u001b[0m         \u001b[39m\"\u001b[39m\u001b[39mas it is likely to crash IPython. If you know what you are doing, \u001b[39m\u001b[39m\"\u001b[39m\n\u001b[0;32m    321\u001b[0m         \u001b[39m\"\u001b[39m\u001b[39myou can use builtins\u001b[39m\u001b[39m'\u001b[39m\u001b[39m open.\u001b[39m\u001b[39m\"\u001b[39m\n\u001b[0;32m    322\u001b[0m     )\n\u001b[1;32m--> 324\u001b[0m \u001b[39mreturn\u001b[39;00m io_open(file, \u001b[39m*\u001b[39;49margs, \u001b[39m*\u001b[39;49m\u001b[39m*\u001b[39;49mkwargs)\n",
      "\u001b[1;31mFileNotFoundError\u001b[0m: [Errno 2] No such file or directory: 'non_existent_file.txt'"
     ]
    }
   ],
   "source": [
    "# for e.g.\n",
    "with open('non_existent_file.txt', 'r') as file:\n",
    "    content = file.read()\n"
   ]
  },
  {
   "cell_type": "code",
   "execution_count": 29,
   "metadata": {},
   "outputs": [
    {
     "name": "stdout",
     "output_type": "stream",
     "text": [
      "FileNotFoundError Detected... ->  \n"
     ]
    }
   ],
   "source": [
    "# solution\n",
    "try:\n",
    "    with open('non_existent_file.txt', 'r') as file:\n",
    "        file.read()\n",
    "except FileNotFoundError:\n",
    "    print(f\"FileNotFoundError Detected... ->  \") "
   ]
  }
 ],
 "metadata": {
  "kernelspec": {
   "display_name": "Python 3",
   "language": "python",
   "name": "python3"
  },
  "language_info": {
   "codemirror_mode": {
    "name": "ipython",
    "version": 3
   },
   "file_extension": ".py",
   "mimetype": "text/x-python",
   "name": "python",
   "nbconvert_exporter": "python",
   "pygments_lexer": "ipython3",
   "version": "3.12.4"
  }
 },
 "nbformat": 4,
 "nbformat_minor": 2
}
